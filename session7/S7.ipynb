{
  "cells": [
    {
      "cell_type": "markdown",
      "metadata": {
        "id": "n09vaEgP6pLj"
      },
      "source": [
        "CODE BLOCK: 1"
      ]
    },
    {
      "cell_type": "code",
      "execution_count": 1,
      "metadata": {
        "colab": {
          "base_uri": "https://localhost:8080/",
          "height": 270
        },
        "id": "BPK_sOBVNQ8Q",
        "outputId": "d289d732-21b7-493f-fb75-5f3687978fd5"
      },
      "outputs": [
        {
          "output_type": "display_data",
          "data": {
            "text/plain": [
              "<IPython.core.display.HTML object>"
            ],
            "text/html": [
              "\n",
              "     <input type=\"file\" id=\"files-03ac0d2a-04bd-4f52-9cf0-8a3890fa7390\" name=\"files[]\" multiple disabled\n",
              "        style=\"border:none\" />\n",
              "     <output id=\"result-03ac0d2a-04bd-4f52-9cf0-8a3890fa7390\">\n",
              "      Upload widget is only available when the cell has been executed in the\n",
              "      current browser session. Please rerun this cell to enable.\n",
              "      </output>\n",
              "      <script>// Copyright 2017 Google LLC\n",
              "//\n",
              "// Licensed under the Apache License, Version 2.0 (the \"License\");\n",
              "// you may not use this file except in compliance with the License.\n",
              "// You may obtain a copy of the License at\n",
              "//\n",
              "//      http://www.apache.org/licenses/LICENSE-2.0\n",
              "//\n",
              "// Unless required by applicable law or agreed to in writing, software\n",
              "// distributed under the License is distributed on an \"AS IS\" BASIS,\n",
              "// WITHOUT WARRANTIES OR CONDITIONS OF ANY KIND, either express or implied.\n",
              "// See the License for the specific language governing permissions and\n",
              "// limitations under the License.\n",
              "\n",
              "/**\n",
              " * @fileoverview Helpers for google.colab Python module.\n",
              " */\n",
              "(function(scope) {\n",
              "function span(text, styleAttributes = {}) {\n",
              "  const element = document.createElement('span');\n",
              "  element.textContent = text;\n",
              "  for (const key of Object.keys(styleAttributes)) {\n",
              "    element.style[key] = styleAttributes[key];\n",
              "  }\n",
              "  return element;\n",
              "}\n",
              "\n",
              "// Max number of bytes which will be uploaded at a time.\n",
              "const MAX_PAYLOAD_SIZE = 100 * 1024;\n",
              "\n",
              "function _uploadFiles(inputId, outputId) {\n",
              "  const steps = uploadFilesStep(inputId, outputId);\n",
              "  const outputElement = document.getElementById(outputId);\n",
              "  // Cache steps on the outputElement to make it available for the next call\n",
              "  // to uploadFilesContinue from Python.\n",
              "  outputElement.steps = steps;\n",
              "\n",
              "  return _uploadFilesContinue(outputId);\n",
              "}\n",
              "\n",
              "// This is roughly an async generator (not supported in the browser yet),\n",
              "// where there are multiple asynchronous steps and the Python side is going\n",
              "// to poll for completion of each step.\n",
              "// This uses a Promise to block the python side on completion of each step,\n",
              "// then passes the result of the previous step as the input to the next step.\n",
              "function _uploadFilesContinue(outputId) {\n",
              "  const outputElement = document.getElementById(outputId);\n",
              "  const steps = outputElement.steps;\n",
              "\n",
              "  const next = steps.next(outputElement.lastPromiseValue);\n",
              "  return Promise.resolve(next.value.promise).then((value) => {\n",
              "    // Cache the last promise value to make it available to the next\n",
              "    // step of the generator.\n",
              "    outputElement.lastPromiseValue = value;\n",
              "    return next.value.response;\n",
              "  });\n",
              "}\n",
              "\n",
              "/**\n",
              " * Generator function which is called between each async step of the upload\n",
              " * process.\n",
              " * @param {string} inputId Element ID of the input file picker element.\n",
              " * @param {string} outputId Element ID of the output display.\n",
              " * @return {!Iterable<!Object>} Iterable of next steps.\n",
              " */\n",
              "function* uploadFilesStep(inputId, outputId) {\n",
              "  const inputElement = document.getElementById(inputId);\n",
              "  inputElement.disabled = false;\n",
              "\n",
              "  const outputElement = document.getElementById(outputId);\n",
              "  outputElement.innerHTML = '';\n",
              "\n",
              "  const pickedPromise = new Promise((resolve) => {\n",
              "    inputElement.addEventListener('change', (e) => {\n",
              "      resolve(e.target.files);\n",
              "    });\n",
              "  });\n",
              "\n",
              "  const cancel = document.createElement('button');\n",
              "  inputElement.parentElement.appendChild(cancel);\n",
              "  cancel.textContent = 'Cancel upload';\n",
              "  const cancelPromise = new Promise((resolve) => {\n",
              "    cancel.onclick = () => {\n",
              "      resolve(null);\n",
              "    };\n",
              "  });\n",
              "\n",
              "  // Wait for the user to pick the files.\n",
              "  const files = yield {\n",
              "    promise: Promise.race([pickedPromise, cancelPromise]),\n",
              "    response: {\n",
              "      action: 'starting',\n",
              "    }\n",
              "  };\n",
              "\n",
              "  cancel.remove();\n",
              "\n",
              "  // Disable the input element since further picks are not allowed.\n",
              "  inputElement.disabled = true;\n",
              "\n",
              "  if (!files) {\n",
              "    return {\n",
              "      response: {\n",
              "        action: 'complete',\n",
              "      }\n",
              "    };\n",
              "  }\n",
              "\n",
              "  for (const file of files) {\n",
              "    const li = document.createElement('li');\n",
              "    li.append(span(file.name, {fontWeight: 'bold'}));\n",
              "    li.append(span(\n",
              "        `(${file.type || 'n/a'}) - ${file.size} bytes, ` +\n",
              "        `last modified: ${\n",
              "            file.lastModifiedDate ? file.lastModifiedDate.toLocaleDateString() :\n",
              "                                    'n/a'} - `));\n",
              "    const percent = span('0% done');\n",
              "    li.appendChild(percent);\n",
              "\n",
              "    outputElement.appendChild(li);\n",
              "\n",
              "    const fileDataPromise = new Promise((resolve) => {\n",
              "      const reader = new FileReader();\n",
              "      reader.onload = (e) => {\n",
              "        resolve(e.target.result);\n",
              "      };\n",
              "      reader.readAsArrayBuffer(file);\n",
              "    });\n",
              "    // Wait for the data to be ready.\n",
              "    let fileData = yield {\n",
              "      promise: fileDataPromise,\n",
              "      response: {\n",
              "        action: 'continue',\n",
              "      }\n",
              "    };\n",
              "\n",
              "    // Use a chunked sending to avoid message size limits. See b/62115660.\n",
              "    let position = 0;\n",
              "    do {\n",
              "      const length = Math.min(fileData.byteLength - position, MAX_PAYLOAD_SIZE);\n",
              "      const chunk = new Uint8Array(fileData, position, length);\n",
              "      position += length;\n",
              "\n",
              "      const base64 = btoa(String.fromCharCode.apply(null, chunk));\n",
              "      yield {\n",
              "        response: {\n",
              "          action: 'append',\n",
              "          file: file.name,\n",
              "          data: base64,\n",
              "        },\n",
              "      };\n",
              "\n",
              "      let percentDone = fileData.byteLength === 0 ?\n",
              "          100 :\n",
              "          Math.round((position / fileData.byteLength) * 100);\n",
              "      percent.textContent = `${percentDone}% done`;\n",
              "\n",
              "    } while (position < fileData.byteLength);\n",
              "  }\n",
              "\n",
              "  // All done.\n",
              "  yield {\n",
              "    response: {\n",
              "      action: 'complete',\n",
              "    }\n",
              "  };\n",
              "}\n",
              "\n",
              "scope.google = scope.google || {};\n",
              "scope.google.colab = scope.google.colab || {};\n",
              "scope.google.colab._files = {\n",
              "  _uploadFiles,\n",
              "  _uploadFilesContinue,\n",
              "};\n",
              "})(self);\n",
              "</script> "
            ]
          },
          "metadata": {}
        },
        {
          "output_type": "stream",
          "name": "stdout",
          "text": [
            "Saving utils.py to utils.py\n"
          ]
        },
        {
          "output_type": "execute_result",
          "data": {
            "text/plain": [
              "{'utils.py': b'\\n\\'\\'\\'\\nUtils for trasforming the train and test dataset\\nUtils to plot graphs\\n    - plot train train samples\\n    - plot losses and accuracies\\n\\'\\'\\'\\nfrom torchvision import datasets, transforms\\nimport matplotlib.pyplot as plt\\n\\n# Train data transformations\\ntrain_transforms = transforms.Compose([\\n    transforms.RandomApply([transforms.CenterCrop(22), ], p=0.1),\\n    transforms.Resize((28, 28)),\\n    transforms.RandomRotation((-15., 15.), fill=0),\\n    transforms.ToTensor(),\\n    transforms.Normalize((0.1307,), (0.3081,)),\\n    ])\\n\\n# Test data transformations\\ntest_transforms = transforms.Compose([\\n    transforms.ToTensor(),\\n    transforms.Normalize((0.1407,), (0.4081,))\\n    ])\\n\\n\\n\\ndef plot_train_samples(train_loader):\\n\\n    batch_data, batch_label = next(iter(train_loader))\\n\\n    fig = plt.figure()\\n\\n    for i in range(12):\\n        plt.subplot(3,4,i+1)\\n        plt.tight_layout()\\n        plt.imshow(batch_data[i].squeeze(0), cmap=\\'gray\\')\\n        plt.title(batch_label[i].item())\\n        plt.xticks([])\\n        plt.yticks([])\\n\\ndef plot_loss_accuracy(train_losses, train_acc, test_losses, test_acc):\\n\\n    fig, axs = plt.subplots(2,2,figsize=(15,10))\\n    axs[0, 0].plot(train_losses)\\n    axs[0, 0].set_title(\"Training Loss\")\\n    axs[1, 0].plot(train_acc)\\n    axs[1, 0].set_title(\"Training Accuracy\")\\n    axs[0, 1].plot(test_losses)\\n    axs[0, 1].set_title(\"Test Loss\")\\n    axs[1, 1].plot(test_acc)\\n    axs[1, 1].set_title(\"Test Accuracy\")\\n'}"
            ]
          },
          "metadata": {},
          "execution_count": 1
        }
      ],
      "source": [
        "from google.colab import files\n",
        "files.upload()"
      ]
    },
    {
      "cell_type": "code",
      "execution_count": 2,
      "metadata": {
        "id": "6PlbomWY3RSq"
      },
      "outputs": [],
      "source": [
        "import torch\n",
        "import torch.nn as nn\n",
        "import torch.nn.functional as F\n",
        "import torch.optim as optim\n",
        "from torchvision import datasets, transforms\n",
        "from torchsummary import summary\n",
        "#from model import Net\n",
        "from utils import *"
      ]
    },
    {
      "cell_type": "markdown",
      "source": [
        "# New section"
      ],
      "metadata": {
        "id": "1zvfNHhAxFBO"
      }
    },
    {
      "cell_type": "markdown",
      "metadata": {
        "id": "VjBHHQVA6sXt"
      },
      "source": [
        "CODE BLOCK: 2"
      ]
    },
    {
      "cell_type": "code",
      "execution_count": 3,
      "metadata": {
        "colab": {
          "base_uri": "https://localhost:8080/"
        },
        "id": "94BxVVBP3WwS",
        "outputId": "77dc9a40-6d0e-438b-bec5-7c7306fb72c7"
      },
      "outputs": [
        {
          "output_type": "stream",
          "name": "stdout",
          "text": [
            "CUDA Available? cuda\n"
          ]
        }
      ],
      "source": [
        "# CUDA?\n",
        "#cuda = if torch.cuda.is_available()\n",
        "device = torch.device('cuda' if torch.cuda.is_available() else 'cpu')\n",
        "print(\"CUDA Available?\", device)"
      ]
    },
    {
      "cell_type": "markdown",
      "metadata": {
        "id": "3UHq59Sw6tmW"
      },
      "source": [
        "CODE BLOCK: 3"
      ]
    },
    {
      "cell_type": "markdown",
      "metadata": {
        "id": "zQm17pM46zHL"
      },
      "source": [
        "CODE BLOCK: 4"
      ]
    },
    {
      "cell_type": "code",
      "execution_count": 4,
      "metadata": {
        "id": "JB79ZYW13-AO",
        "colab": {
          "base_uri": "https://localhost:8080/"
        },
        "outputId": "83c5f9e1-f96f-45e0-9a54-0e55436e69ef"
      },
      "outputs": [
        {
          "output_type": "stream",
          "name": "stdout",
          "text": [
            "Downloading http://yann.lecun.com/exdb/mnist/train-images-idx3-ubyte.gz\n",
            "Downloading http://yann.lecun.com/exdb/mnist/train-images-idx3-ubyte.gz to ../data/MNIST/raw/train-images-idx3-ubyte.gz\n"
          ]
        },
        {
          "output_type": "stream",
          "name": "stderr",
          "text": [
            "100%|██████████| 9912422/9912422 [00:00<00:00, 106861128.52it/s]\n"
          ]
        },
        {
          "output_type": "stream",
          "name": "stdout",
          "text": [
            "Extracting ../data/MNIST/raw/train-images-idx3-ubyte.gz to ../data/MNIST/raw\n",
            "\n",
            "Downloading http://yann.lecun.com/exdb/mnist/train-labels-idx1-ubyte.gz\n",
            "Downloading http://yann.lecun.com/exdb/mnist/train-labels-idx1-ubyte.gz to ../data/MNIST/raw/train-labels-idx1-ubyte.gz\n"
          ]
        },
        {
          "output_type": "stream",
          "name": "stderr",
          "text": [
            "100%|██████████| 28881/28881 [00:00<00:00, 84888362.88it/s]\n"
          ]
        },
        {
          "output_type": "stream",
          "name": "stdout",
          "text": [
            "Extracting ../data/MNIST/raw/train-labels-idx1-ubyte.gz to ../data/MNIST/raw\n",
            "\n",
            "Downloading http://yann.lecun.com/exdb/mnist/t10k-images-idx3-ubyte.gz\n",
            "Downloading http://yann.lecun.com/exdb/mnist/t10k-images-idx3-ubyte.gz to ../data/MNIST/raw/t10k-images-idx3-ubyte.gz\n"
          ]
        },
        {
          "output_type": "stream",
          "name": "stderr",
          "text": [
            "100%|██████████| 1648877/1648877 [00:00<00:00, 28003188.25it/s]\n"
          ]
        },
        {
          "output_type": "stream",
          "name": "stdout",
          "text": [
            "Extracting ../data/MNIST/raw/t10k-images-idx3-ubyte.gz to ../data/MNIST/raw\n",
            "\n",
            "Downloading http://yann.lecun.com/exdb/mnist/t10k-labels-idx1-ubyte.gz\n",
            "Downloading http://yann.lecun.com/exdb/mnist/t10k-labels-idx1-ubyte.gz to ../data/MNIST/raw/t10k-labels-idx1-ubyte.gz\n"
          ]
        },
        {
          "output_type": "stream",
          "name": "stderr",
          "text": [
            "100%|██████████| 4542/4542 [00:00<00:00, 12820005.90it/s]\n"
          ]
        },
        {
          "output_type": "stream",
          "name": "stdout",
          "text": [
            "Extracting ../data/MNIST/raw/t10k-labels-idx1-ubyte.gz to ../data/MNIST/raw\n",
            "\n"
          ]
        }
      ],
      "source": [
        "train_data = datasets.MNIST('../data', train=True, download=True, transform=train_transforms)\n",
        "test_data = datasets.MNIST('../data', train=False, download=True, transform=test_transforms)"
      ]
    },
    {
      "cell_type": "markdown",
      "metadata": {
        "id": "_PKSHxto6116"
      },
      "source": [
        "CODE BLOCK: 5"
      ]
    },
    {
      "cell_type": "code",
      "execution_count": 5,
      "metadata": {
        "id": "avCKK1uL4A68"
      },
      "outputs": [],
      "source": [
        "batch_size = 512 # 512 but why ?\n",
        "\n",
        "kwargs = {'batch_size': batch_size, 'shuffle': True, 'num_workers': 2, 'pin_memory': True}\n",
        "\n",
        "test_loader = torch.utils.data.DataLoader(train_data, **kwargs)\n",
        "train_loader = torch.utils.data.DataLoader(test_data, **kwargs)"
      ]
    },
    {
      "cell_type": "markdown",
      "metadata": {
        "id": "Hi_0rfq56-29"
      },
      "source": [
        "CODE BLOCK: 6"
      ]
    },
    {
      "cell_type": "code",
      "execution_count": 6,
      "metadata": {
        "colab": {
          "base_uri": "https://localhost:8080/",
          "height": 463
        },
        "id": "6cabo23aaxja",
        "outputId": "a509b952-4ef3-4c9c-99d3-70af3a4d04b9"
      },
      "outputs": [
        {
          "output_type": "display_data",
          "data": {
            "text/plain": [
              "<Figure size 640x480 with 12 Axes>"
            ],
            "image/png": "[encoded data removed]"
          },
          "metadata": {}
        }
      ],
      "source": [
        "plot_train_samples(train_loader)"
      ]
    },
    {
      "cell_type": "markdown",
      "metadata": {
        "id": "y3XbVJSb7Aee"
      },
      "source": [
        "CODE BLOCK: 7"
      ]
    },
    {
      "cell_type": "markdown",
      "metadata": {
        "id": "89gd4_s7AO2y"
      },
      "source": [
        "CODE BLOCK: 8"
      ]
    },
    {
      "cell_type": "code",
      "execution_count": 7,
      "metadata": {
        "id": "7du4zM474LvT"
      },
      "outputs": [],
      "source": [
        "# Data to plot accuracy and loss graphs\n",
        "train_losses = []\n",
        "test_losses = []\n",
        "train_acc = []\n",
        "test_acc = []\n",
        "\n",
        "test_incorrect_pred = {'images': [], 'ground_truths': [], 'predicted_vals': []}"
      ]
    },
    {
      "cell_type": "markdown",
      "metadata": {
        "id": "kCwIPHqwAQgB"
      },
      "source": [
        "CODE BLOCK: 8"
      ]
    },
    {
      "cell_type": "code",
      "execution_count": 8,
      "metadata": {
        "id": "gpNw3-sy4QGd"
      },
      "outputs": [],
      "source": [
        "\n",
        "from tqdm import tqdm\n",
        "\n",
        "def GetCorrectPredCount(pPrediction, pLabels):\n",
        "  return pPrediction.argmax(dim=1).eq(pLabels).sum().item()\n",
        "\n",
        "def train(model, device, train_loader, optimizer):\n",
        "  model.train()\n",
        "  pbar = tqdm(train_loader)\n",
        "\n",
        "  train_loss = 0\n",
        "  correct = 0\n",
        "  processed = 0\n",
        "\n",
        "  for batch_idx, (data, target) in enumerate(pbar):\n",
        "    data, target = data.to(device), target.to(device)\n",
        "    optimizer.zero_grad()\n",
        "\n",
        "    # Predict\n",
        "    pred = model(data)\n",
        "\n",
        "    # Calculate loss\n",
        "    loss = F.nll_loss(pred, target)\n",
        "    train_loss+=loss.item()\n",
        "\n",
        "    # Backpropagation\n",
        "    loss.backward()\n",
        "    optimizer.step()\n",
        "\n",
        "    correct += GetCorrectPredCount(pred, target)\n",
        "    processed += len(data)\n",
        "\n",
        "    pbar.set_description(desc= f'Train: Loss={loss.item():0.4f} Batch_id={batch_idx} Accuracy={100*correct/processed:0.2f}')\n",
        "\n",
        "  train_acc.append(100*correct/processed)\n",
        "  train_losses.append(train_loss/len(train_loader))\n",
        "\n",
        "def test(model, device, test_loader):\n",
        "    model.eval()\n",
        "\n",
        "    test_loss = 0\n",
        "    correct = 0\n",
        "\n",
        "    with torch.no_grad():\n",
        "        for batch_idx, (data, target) in enumerate(test_loader):\n",
        "            data, target = data.to(device), target.to(device)\n",
        "\n",
        "            output = model(data)\n",
        "            test_loss += F.nll_loss(output, target, reduction='sum').item()  # sum up batch loss\n",
        "\n",
        "            correct += GetCorrectPredCount(output, target)\n",
        "\n",
        "\n",
        "    test_loss /= len(test_loader.dataset)\n",
        "    test_acc.append(100. * correct / len(test_loader.dataset))\n",
        "    test_losses.append(test_loss)\n",
        "\n",
        "    print('Test set: Average loss: {:.4f}, Accuracy: {}/{} ({:.2f}%)\\n'.format(\n",
        "        test_loss, correct, len(test_loader.dataset),\n",
        "        100. * correct / len(test_loader.dataset)))\n",
        ""
      ]
    },
    {
      "cell_type": "markdown",
      "metadata": {
        "id": "09GYKBGRAT5M"
      },
      "source": [
        "CODE BLOCK: 9"
      ]
    },
    {
      "cell_type": "code",
      "execution_count": 11,
      "metadata": {
        "colab": {
          "base_uri": "https://localhost:8080/",
          "height": 107
        },
        "id": "dbcmEJmuH2yS",
        "outputId": "ef1f4c6b-856a-4e36-e26c-0f46810eb927"
      },
      "outputs": [
        {
          "output_type": "execute_result",
          "data": {
            "text/plain": [
              "'\\n        self.conv1 = nn.Conv2d(1, 8, kernel_size=3)\\n        self.conv2 = nn.Conv2d(8, 16, kernel_size=3)\\n        self.conv3 = nn.Conv2d(16, 20, kernel_size=3)\\n        self.conv4 = nn.Conv2d(20, 32, kernel_size=3)\\n        self.gap = nn.AdaptiveAvgPool2d(1)\\n        #self.fc1 = nn.Linear(32, 16)\\n        self.fc2 = nn.Linear(32, 10)\\n\\n    def forward(self, x):\\n        x = F.relu(self.conv1(x),2)\\n        x = F.relu(F.max_pool2d(self.conv2(x), 2))\\n        x = F.relu(self.conv3(x),2)\\n        x = F.relu(F.max_pool2d(self.conv4(x), 2))\\n        x = self.gap(x)\\n        x = x.view(-1, 32)\\n        #x = F.relu(self.fc1(x))\\n        x = self.fc2(x)\\n        return F.log_softmax(x, dim=1)\\n\\n'"
            ],
            "application/vnd.google.colaboratory.intrinsic+json": {
              "type": "string"
            }
          },
          "metadata": {},
          "execution_count": 11
        }
      ],
      "source": [
        "class Net(nn.Module):\n",
        "    #This defines the structure of the NN.\n",
        "    def __init__(self):\n",
        "        super(Net, self).__init__()\n",
        "        self.conv1 = nn.Sequential(\n",
        "                                nn.Conv2d(1, 8, kernel_size=3),\n",
        "                                nn.BatchNorm2d(8),\n",
        "                                #nn.Dropout(0.1),\n",
        "                                nn.ReLU()\n",
        "\n",
        "                              )\n",
        "        self.conv2 = nn.Sequential(\n",
        "                                nn.Conv2d(8, 16, kernel_size=3),\n",
        "                                nn.BatchNorm2d(16),\n",
        "                                #nn.Dropout(0.1),\n",
        "                                nn.ReLU(),\n",
        "\n",
        "                                nn.MaxPool2d(kernel_size=2, stride=2)\n",
        "                              )\n",
        "        self.conv3 = nn.Sequential(\n",
        "                                nn.Conv2d(16, 32, kernel_size=3),\n",
        "                                nn.BatchNorm2d(32),\n",
        "                                nn.Conv2d(32, 16, kernel_size=1),\n",
        "                                nn.ReLU(),\n",
        "                                #nn.Dropout(0.1),\n",
        "                                nn.ReLU()\n",
        "                                #nn.MaxPool2d(kernel_size=2, stride=2)\n",
        "                              )\n",
        "        self.conv4 = nn.Sequential(\n",
        "                                nn.Conv2d(16, 10, kernel_size=3,),\n",
        "                                nn.BatchNorm2d(10),\n",
        "                                #nn.Dropout(0.1),\n",
        "                                nn.ReLU()\n",
        "                                #nn.MaxPool2d(kernel_size=2, stride=2),\n",
        "                                #nn.Conv2d(32, 64, kernel_size=3)\n",
        "\n",
        "                              )\n",
        "        self.gap =  nn.AdaptiveAvgPool2d(1) # nn.AvgPool2d(8)\n",
        "        #self.fc = nn.Linear(40, 10)\n",
        "        #self.fc2 = nn.Linear(64, 10)\n",
        "\n",
        "    def forward(self, x):\n",
        "        x = self.conv1(x)\n",
        "        x = self.conv2(x)\n",
        "        x = self.conv3(x)\n",
        "        x = self.conv4(x)\n",
        "        x = self.gap(x)\n",
        "        x = x.view(-1, 10)\n",
        "        #x = F.relu(self.fc1(x))\n",
        "        #x = self.fc(x)\n",
        "        #x = self.fc2(x)\n",
        "        return F.log_softmax(x, dim=1)\n",
        "\n",
        "'''\n",
        "        self.conv1 = nn.Conv2d(1, 8, kernel_size=3)\n",
        "        self.conv2 = nn.Conv2d(8, 16, kernel_size=3)\n",
        "        self.conv3 = nn.Conv2d(16, 20, kernel_size=3)\n",
        "        self.conv4 = nn.Conv2d(20, 32, kernel_size=3)\n",
        "        self.gap = nn.AdaptiveAvgPool2d(1)\n",
        "        #self.fc1 = nn.Linear(32, 16)\n",
        "        self.fc2 = nn.Linear(32, 10)\n",
        "\n",
        "    def forward(self, x):\n",
        "        x = F.relu(self.conv1(x),2)\n",
        "        x = F.relu(F.max_pool2d(self.conv2(x), 2))\n",
        "        x = F.relu(self.conv3(x),2)\n",
        "        x = F.relu(F.max_pool2d(self.conv4(x), 2))\n",
        "        x = self.gap(x)\n",
        "        x = x.view(-1, 32)\n",
        "        #x = F.relu(self.fc1(x))\n",
        "        x = self.fc2(x)\n",
        "        return F.log_softmax(x, dim=1)\n",
        "\n",
        "'''"
      ]
    },
    {
      "cell_type": "code",
      "execution_count": 12,
      "metadata": {
        "colab": {
          "base_uri": "https://localhost:8080/"
        },
        "id": "7q2yviuKO4Z6",
        "outputId": "bbedd202-8353-405d-b7f9-f7f4629739f7"
      },
      "outputs": [
        {
          "output_type": "stream",
          "name": "stdout",
          "text": [
            "----------------------------------------------------------------\n",
            "        Layer (type)               Output Shape         Param #\n",
            "================================================================\n",
            "            Conv2d-1            [-1, 8, 26, 26]              80\n",
            "       BatchNorm2d-2            [-1, 8, 26, 26]              16\n",
            "              ReLU-3            [-1, 8, 26, 26]               0\n",
            "            Conv2d-4           [-1, 16, 24, 24]           1,168\n",
            "       BatchNorm2d-5           [-1, 16, 24, 24]              32\n",
            "              ReLU-6           [-1, 16, 24, 24]               0\n",
            "         MaxPool2d-7           [-1, 16, 12, 12]               0\n",
            "            Conv2d-8           [-1, 32, 10, 10]           4,640\n",
            "       BatchNorm2d-9           [-1, 32, 10, 10]              64\n",
            "           Conv2d-10           [-1, 16, 10, 10]             528\n",
            "             ReLU-11           [-1, 16, 10, 10]               0\n",
            "             ReLU-12           [-1, 16, 10, 10]               0\n",
            "           Conv2d-13             [-1, 10, 8, 8]           1,450\n",
            "      BatchNorm2d-14             [-1, 10, 8, 8]              20\n",
            "             ReLU-15             [-1, 10, 8, 8]               0\n",
            "AdaptiveAvgPool2d-16             [-1, 10, 1, 1]               0\n",
            "================================================================\n",
            "Total params: 7,998\n",
            "Trainable params: 7,998\n",
            "Non-trainable params: 0\n",
            "----------------------------------------------------------------\n",
            "Input size (MB): 0.00\n",
            "Forward/backward pass size (MB): 0.45\n",
            "Params size (MB): 0.03\n",
            "Estimated Total Size (MB): 0.49\n",
            "----------------------------------------------------------------\n"
          ]
        }
      ],
      "source": [
        "model = Net().to(device)\n",
        "summary(model,(1,28,28))"
      ]
    },
    {
      "cell_type": "code",
      "execution_count": 13,
      "metadata": {
        "colab": {
          "base_uri": "https://localhost:8080/"
        },
        "id": "Owqiet9M4TV7",
        "outputId": "2d4ba3ef-ac97-41dd-fcf9-10751a7ab042"
      },
      "outputs": [
        {
          "output_type": "stream",
          "name": "stdout",
          "text": [
            "Adjusting learning rate of group 0 to 1.0000e-02.\n",
            "Epoch 1\n"
          ]
        },
        {
          "output_type": "stream",
          "name": "stderr",
          "text": [
            "Train: Loss=2.0826 Batch_id=19 Accuracy=26.05: 100%|██████████| 20/20 [00:04<00:00,  4.30it/s]\n"
          ]
        },
        {
          "output_type": "stream",
          "name": "stdout",
          "text": [
            "Test set: Average loss: 2.2047, Accuracy: 13973/60000 (23.29%)\n",
            "\n",
            "Adjusting learning rate of group 0 to 1.0000e-02.\n",
            "Epoch 2\n"
          ]
        },
        {
          "output_type": "stream",
          "name": "stderr",
          "text": [
            "Train: Loss=1.9200 Batch_id=19 Accuracy=56.13: 100%|██████████| 20/20 [00:02<00:00,  8.70it/s]\n"
          ]
        },
        {
          "output_type": "stream",
          "name": "stdout",
          "text": [
            "Test set: Average loss: 1.9367, Accuracy: 27129/60000 (45.22%)\n",
            "\n",
            "Adjusting learning rate of group 0 to 1.0000e-02.\n",
            "Epoch 3\n"
          ]
        },
        {
          "output_type": "stream",
          "name": "stderr",
          "text": [
            "Train: Loss=1.7365 Batch_id=19 Accuracy=65.24: 100%|██████████| 20/20 [00:02<00:00,  8.69it/s]\n"
          ]
        },
        {
          "output_type": "stream",
          "name": "stdout",
          "text": [
            "Test set: Average loss: 1.7551, Accuracy: 33310/60000 (55.52%)\n",
            "\n",
            "Adjusting learning rate of group 0 to 1.0000e-02.\n",
            "Epoch 4\n"
          ]
        },
        {
          "output_type": "stream",
          "name": "stderr",
          "text": [
            "Train: Loss=1.5687 Batch_id=19 Accuracy=74.18: 100%|██████████| 20/20 [00:02<00:00,  8.75it/s]\n"
          ]
        },
        {
          "output_type": "stream",
          "name": "stdout",
          "text": [
            "Test set: Average loss: 1.5858, Accuracy: 33704/60000 (56.17%)\n",
            "\n",
            "Adjusting learning rate of group 0 to 1.0000e-02.\n",
            "Epoch 5\n"
          ]
        },
        {
          "output_type": "stream",
          "name": "stderr",
          "text": [
            "Train: Loss=1.3864 Batch_id=19 Accuracy=80.30: 100%|██████████| 20/20 [00:02<00:00,  8.72it/s]\n"
          ]
        },
        {
          "output_type": "stream",
          "name": "stdout",
          "text": [
            "Test set: Average loss: 1.4799, Accuracy: 33030/60000 (55.05%)\n",
            "\n",
            "Adjusting learning rate of group 0 to 1.0000e-02.\n",
            "Epoch 6\n"
          ]
        },
        {
          "output_type": "stream",
          "name": "stderr",
          "text": [
            "Train: Loss=1.2317 Batch_id=19 Accuracy=84.21: 100%|██████████| 20/20 [00:03<00:00,  5.77it/s]\n"
          ]
        },
        {
          "output_type": "stream",
          "name": "stdout",
          "text": [
            "Test set: Average loss: 1.3146, Accuracy: 39151/60000 (65.25%)\n",
            "\n",
            "Adjusting learning rate of group 0 to 1.0000e-02.\n",
            "Epoch 7\n"
          ]
        },
        {
          "output_type": "stream",
          "name": "stderr",
          "text": [
            "Train: Loss=1.1197 Batch_id=19 Accuracy=86.13: 100%|██████████| 20/20 [00:02<00:00,  8.33it/s]\n"
          ]
        },
        {
          "output_type": "stream",
          "name": "stdout",
          "text": [
            "Test set: Average loss: 1.2550, Accuracy: 39880/60000 (66.47%)\n",
            "\n",
            "Adjusting learning rate of group 0 to 1.0000e-02.\n",
            "Epoch 8\n"
          ]
        },
        {
          "output_type": "stream",
          "name": "stderr",
          "text": [
            "Train: Loss=1.0397 Batch_id=19 Accuracy=88.06: 100%|██████████| 20/20 [00:02<00:00,  8.63it/s]\n"
          ]
        },
        {
          "output_type": "stream",
          "name": "stdout",
          "text": [
            "Test set: Average loss: 1.1206, Accuracy: 42839/60000 (71.40%)\n",
            "\n",
            "Adjusting learning rate of group 0 to 1.0000e-02.\n",
            "Epoch 9\n"
          ]
        },
        {
          "output_type": "stream",
          "name": "stderr",
          "text": [
            "Train: Loss=0.9547 Batch_id=19 Accuracy=89.65: 100%|██████████| 20/20 [00:02<00:00,  8.48it/s]\n"
          ]
        },
        {
          "output_type": "stream",
          "name": "stdout",
          "text": [
            "Test set: Average loss: 1.1324, Accuracy: 40597/60000 (67.66%)\n",
            "\n",
            "Adjusting learning rate of group 0 to 1.0000e-02.\n",
            "Epoch 10\n"
          ]
        },
        {
          "output_type": "stream",
          "name": "stderr",
          "text": [
            "Train: Loss=0.8339 Batch_id=19 Accuracy=91.05: 100%|██████████| 20/20 [00:02<00:00,  8.63it/s]\n"
          ]
        },
        {
          "output_type": "stream",
          "name": "stdout",
          "text": [
            "Test set: Average loss: 1.2149, Accuracy: 37220/60000 (62.03%)\n",
            "\n",
            "Adjusting learning rate of group 0 to 1.0000e-02.\n",
            "Epoch 11\n"
          ]
        },
        {
          "output_type": "stream",
          "name": "stderr",
          "text": [
            "Train: Loss=0.7629 Batch_id=19 Accuracy=92.23: 100%|██████████| 20/20 [00:03<00:00,  6.49it/s]\n"
          ]
        },
        {
          "output_type": "stream",
          "name": "stdout",
          "text": [
            "Test set: Average loss: 0.9178, Accuracy: 46137/60000 (76.89%)\n",
            "\n",
            "Adjusting learning rate of group 0 to 1.0000e-02.\n",
            "Epoch 12\n"
          ]
        },
        {
          "output_type": "stream",
          "name": "stderr",
          "text": [
            "Train: Loss=0.7000 Batch_id=19 Accuracy=93.08: 100%|██████████| 20/20 [00:02<00:00,  8.08it/s]\n"
          ]
        },
        {
          "output_type": "stream",
          "name": "stdout",
          "text": [
            "Test set: Average loss: 1.0849, Accuracy: 38684/60000 (64.47%)\n",
            "\n",
            "Adjusting learning rate of group 0 to 1.0000e-02.\n",
            "Epoch 13\n"
          ]
        },
        {
          "output_type": "stream",
          "name": "stderr",
          "text": [
            "Train: Loss=0.6256 Batch_id=19 Accuracy=93.62: 100%|██████████| 20/20 [00:02<00:00,  8.67it/s]\n"
          ]
        },
        {
          "output_type": "stream",
          "name": "stdout",
          "text": [
            "Test set: Average loss: 0.9647, Accuracy: 42369/60000 (70.61%)\n",
            "\n",
            "Adjusting learning rate of group 0 to 1.0000e-02.\n",
            "Epoch 14\n"
          ]
        },
        {
          "output_type": "stream",
          "name": "stderr",
          "text": [
            "Train: Loss=0.5578 Batch_id=19 Accuracy=94.03: 100%|██████████| 20/20 [00:02<00:00,  8.85it/s]\n"
          ]
        },
        {
          "output_type": "stream",
          "name": "stdout",
          "text": [
            "Test set: Average loss: 0.9192, Accuracy: 42586/60000 (70.98%)\n",
            "\n",
            "Adjusting learning rate of group 0 to 1.0000e-02.\n",
            "Epoch 15\n"
          ]
        },
        {
          "output_type": "stream",
          "name": "stderr",
          "text": [
            "Train: Loss=0.5303 Batch_id=19 Accuracy=94.41: 100%|██████████| 20/20 [00:02<00:00,  8.67it/s]\n"
          ]
        },
        {
          "output_type": "stream",
          "name": "stdout",
          "text": [
            "Test set: Average loss: 0.8847, Accuracy: 44592/60000 (74.32%)\n",
            "\n",
            "Adjusting learning rate of group 0 to 1.0000e-03.\n"
          ]
        }
      ],
      "source": [
        "model = Net().to(device)\n",
        "optimizer = optim.SGD(model.parameters(), lr=0.01, momentum=0.9)\n",
        "scheduler = optim.lr_scheduler.StepLR(optimizer, step_size=15, gamma=0.1, verbose=True)\n",
        "num_epochs = 15\n",
        "\n",
        "for epoch in range(1, num_epochs+1):\n",
        "  print(f'Epoch {epoch}')\n",
        "  train(model, device, train_loader, optimizer)\n",
        "  test(model, device, test_loader)\n",
        "  scheduler.step()"
      ]
    },
    {
      "cell_type": "code",
      "execution_count": null,
      "metadata": {
        "colab": {
          "base_uri": "https://localhost:8080/",
          "height": 853
        },
        "id": "4rI4fb1mAGUW",
        "outputId": "b738e9dd-6f03-4521-e315-cbc8eb574fba"
      },
      "outputs": [
        {
          "output_type": "display_data",
          "data": {
            "text/plain": [
              "<Figure size 1500x1000 with 4 Axes>"
            ],
            "image/png": "[encoded data removed]"
          },
          "metadata": {}
        }
      ],
      "source": [
        "plot_loss_accuracy(train_losses, train_acc, test_losses, test_acc)"
      ]
    },
    {
      "cell_type": "code",
      "execution_count": null,
      "metadata": {
        "colab": {
          "base_uri": "https://localhost:8080/"
        },
        "id": "C8WZPfXe4iK_",
        "outputId": "501a0801-0386-45a8-8281-8533afa1b868"
      },
      "outputs": [
        {
          "output_type": "stream",
          "name": "stdout",
          "text": [
            "Looking in indexes: https://pypi.org/simple, https://us-python.pkg.dev/colab-wheels/public/simple/\n",
            "Requirement already satisfied: torchsummary in /usr/local/lib/python3.10/dist-packages (1.5.1)\n",
            "----------------------------------------------------------------\n",
            "        Layer (type)               Output Shape         Param #\n",
            "================================================================\n",
            "            Conv2d-1            [-1, 8, 26, 26]              80\n",
            "       BatchNorm2d-2            [-1, 8, 26, 26]              16\n",
            "           Dropout-3            [-1, 8, 26, 26]               0\n",
            "              ReLU-4            [-1, 8, 26, 26]               0\n",
            "            Conv2d-5           [-1, 16, 24, 24]           1,168\n",
            "       BatchNorm2d-6           [-1, 16, 24, 24]              32\n",
            "           Dropout-7           [-1, 16, 24, 24]               0\n",
            "              ReLU-8           [-1, 16, 24, 24]               0\n",
            "         MaxPool2d-9           [-1, 16, 12, 12]               0\n",
            "           Conv2d-10           [-1, 32, 10, 10]           4,640\n",
            "      BatchNorm2d-11           [-1, 32, 10, 10]              64\n",
            "          Dropout-12           [-1, 32, 10, 10]               0\n",
            "             ReLU-13           [-1, 32, 10, 10]               0\n",
            "        MaxPool2d-14             [-1, 32, 5, 5]               0\n",
            "           Conv2d-15             [-1, 40, 3, 3]          11,560\n",
            "             ReLU-16             [-1, 40, 3, 3]               0\n",
            "AdaptiveAvgPool2d-17             [-1, 40, 1, 1]               0\n",
            "           Linear-18                   [-1, 10]             410\n",
            "================================================================\n",
            "Total params: 17,970\n",
            "Trainable params: 17,970\n",
            "Non-trainable params: 0\n",
            "----------------------------------------------------------------\n",
            "Input size (MB): 0.00\n",
            "Forward/backward pass size (MB): 0.57\n",
            "Params size (MB): 0.07\n",
            "Estimated Total Size (MB): 0.65\n",
            "----------------------------------------------------------------\n"
          ]
        }
      ],
      "source": [
        "!pip install torchsummary\n",
        "from torchsummary import summary\n",
        "use_cuda = torch.cuda.is_available()\n",
        "device = torch.device(\"cuda\" if use_cuda else \"cpu\")\n",
        "model = Net().to(device)\n",
        "summary(model, input_size=(1, 28, 28))"
      ]
    }
  ],
  "metadata": {
    "accelerator": "GPU",
    "colab": {
      "provenance": [],
      "gpuType": "T4"
    },
    "kernelspec": {
      "display_name": "Python 3",
      "name": "python3"
    },
    "language_info": {
      "name": "python"
    }
  },
  "nbformat": 4,
  "nbformat_minor": 0
}