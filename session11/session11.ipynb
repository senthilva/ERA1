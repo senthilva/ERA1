{
  "cells": [
    {
      "cell_type": "code",
      "execution_count": 1,
      "metadata": {
        "colab": {
          "base_uri": "https://localhost:8080/"
        },
        "id": "DdEsi7t2wckI",
        "outputId": "a9ea237b-738a-4482-ea23-862777d7ef7a"
      },
      "outputs": [
        {
          "output_type": "stream",
          "name": "stdout",
          "text": [
            "Cloning into 'ERA1'...\n",
            "remote: Enumerating objects: 314, done.\u001b[K\n",
            "remote: Counting objects: 100% (167/167), done.\u001b[K\n",
            "remote: Compressing objects: 100% (165/165), done.\u001b[K\n",
            "remote: Total 314 (delta 96), reused 0 (delta 0), pack-reused 147\u001b[K\n",
            "Receiving objects: 100% (314/314), 690.93 KiB | 2.81 MiB/s, done.\n",
            "Resolving deltas: 100% (160/160), done.\n"
          ]
        }
      ],
      "source": [
        "!git clone https://github.com/senthilva/ERA1.git\n"
      ]
    },
    {
      "cell_type": "code",
      "execution_count": 2,
      "metadata": {
        "colab": {
          "base_uri": "https://localhost:8080/"
        },
        "id": "VkhF3seKzeje",
        "outputId": "2587731d-d5f3-491b-a1e1-4695019792d6"
      },
      "outputs": [
        {
          "output_type": "stream",
          "name": "stdout",
          "text": [
            "/content/ERA1/session11\n"
          ]
        }
      ],
      "source": [
        "%cd ERA1/session11"
      ]
    },
    {
      "cell_type": "code",
      "execution_count": 3,
      "metadata": {
        "id": "f17PYZQJzoVM"
      },
      "outputs": [],
      "source": [
        "import sys\n",
        "sys.path.insert(0,'/content/ERA1/ERA1/session11')"
      ]
    },
    {
      "cell_type": "code",
      "execution_count": 4,
      "metadata": {
        "colab": {
          "base_uri": "https://localhost:8080/"
        },
        "id": "RK7MmB4dz5tl",
        "outputId": "72484794-1493-4c23-bc15-d5b3c8b85ca0"
      },
      "outputs": [
        {
          "output_type": "stream",
          "name": "stdout",
          "text": [
            "CUDA Available? True\n",
            "cuda\n",
            "==> Preparing data..\n",
            "Downloading https://www.cs.toronto.edu/~kriz/cifar-10-python.tar.gz to ./data/cifar-10-python.tar.gz\n",
            "100% 170498071/170498071 [00:12<00:00, 13167952.77it/s]\n",
            "Extracting ./data/cifar-10-python.tar.gz to ./data\n",
            "Files already downloaded and verified\n",
            "==> Building model..\n",
            "EPOCH: 0\n",
            "Loss=-5.8687005043029785 Batch_id=97 Accuracy=24.08: 100% 98/98 [00:46<00:00,  2.10it/s]\n",
            "\n",
            "Test set: Average loss: -7.0005, Accuracy: 3061/10000 (30.61%)\n",
            "\n",
            "EPOCH: 1\n",
            "Loss=-9.170592308044434 Batch_id=97 Accuracy=34.42: 100% 98/98 [00:40<00:00,  2.42it/s]\n",
            "\n",
            "Test set: Average loss: -10.3728, Accuracy: 4038/10000 (40.38%)\n",
            "\n",
            "EPOCH: 2\n",
            "Loss=-12.37462043762207 Batch_id=97 Accuracy=42.88: 100% 98/98 [00:40<00:00,  2.41it/s]\n",
            "\n",
            "Test set: Average loss: -12.8611, Accuracy: 4690/10000 (46.90%)\n",
            "\n",
            "EPOCH: 3\n",
            "Loss=-13.692671775817871 Batch_id=97 Accuracy=47.95: 100% 98/98 [00:40<00:00,  2.42it/s]\n",
            "\n",
            "Test set: Average loss: -14.8659, Accuracy: 5093/10000 (50.93%)\n",
            "\n",
            "EPOCH: 4\n",
            "Loss=-16.96373748779297 Batch_id=97 Accuracy=51.52: 100% 98/98 [00:40<00:00,  2.42it/s]\n",
            "\n",
            "Test set: Average loss: -17.9648, Accuracy: 5440/10000 (54.40%)\n",
            "\n",
            "EPOCH: 5\n",
            "Loss=-18.419708251953125 Batch_id=97 Accuracy=54.50: 100% 98/98 [00:40<00:00,  2.41it/s]\n",
            "\n",
            "Test set: Average loss: -20.3402, Accuracy: 5449/10000 (54.49%)\n",
            "\n",
            "EPOCH: 6\n",
            "Loss=-20.17940902709961 Batch_id=97 Accuracy=56.32: 100% 98/98 [00:40<00:00,  2.42it/s]\n",
            "\n",
            "Test set: Average loss: -22.1473, Accuracy: 5577/10000 (55.77%)\n",
            "\n",
            "EPOCH: 7\n",
            "Loss=-21.95830535888672 Batch_id=97 Accuracy=57.79: 100% 98/98 [00:40<00:00,  2.42it/s]\n",
            "\n",
            "Test set: Average loss: -23.6825, Accuracy: 5909/10000 (59.09%)\n",
            "\n",
            "EPOCH: 8\n",
            "Loss=-23.732913970947266 Batch_id=97 Accuracy=59.30: 100% 98/98 [00:40<00:00,  2.42it/s]\n",
            "\n",
            "Test set: Average loss: -25.6963, Accuracy: 5945/10000 (59.45%)\n",
            "\n",
            "EPOCH: 9\n",
            "Loss=-25.68902015686035 Batch_id=97 Accuracy=60.69: 100% 98/98 [00:40<00:00,  2.41it/s]\n",
            "\n",
            "Test set: Average loss: -27.8724, Accuracy: 6122/10000 (61.22%)\n",
            "\n",
            "EPOCH: 10\n",
            "Loss=-27.355358123779297 Batch_id=97 Accuracy=61.69: 100% 98/98 [00:40<00:00,  2.42it/s]\n",
            "\n",
            "Test set: Average loss: -29.6951, Accuracy: 6265/10000 (62.65%)\n",
            "\n",
            "EPOCH: 11\n",
            "Loss=-30.144060134887695 Batch_id=97 Accuracy=62.77: 100% 98/98 [00:40<00:00,  2.42it/s]\n",
            "\n",
            "Test set: Average loss: -31.2394, Accuracy: 6292/10000 (62.92%)\n",
            "\n",
            "EPOCH: 12\n",
            "Loss=-30.645395278930664 Batch_id=97 Accuracy=63.18: 100% 98/98 [00:40<00:00,  2.40it/s]\n",
            "\n",
            "Test set: Average loss: -33.2861, Accuracy: 6429/10000 (64.29%)\n",
            "\n",
            "EPOCH: 13\n",
            "Loss=-32.99705123901367 Batch_id=97 Accuracy=63.99: 100% 98/98 [00:40<00:00,  2.42it/s]\n",
            "\n",
            "Test set: Average loss: -34.4486, Accuracy: 6401/10000 (64.01%)\n",
            "\n",
            "EPOCH: 14\n",
            "Loss=-33.855106353759766 Batch_id=97 Accuracy=64.73: 100% 98/98 [00:40<00:00,  2.42it/s]\n",
            "\n",
            "Test set: Average loss: -34.5724, Accuracy: 6527/10000 (65.27%)\n",
            "\n",
            "EPOCH: 15\n",
            "Loss=-36.07720184326172 Batch_id=97 Accuracy=65.47: 100% 98/98 [00:40<00:00,  2.42it/s]\n",
            "\n",
            "Test set: Average loss: -37.9240, Accuracy: 6524/10000 (65.24%)\n",
            "\n",
            "EPOCH: 16\n",
            "Loss=-37.08926773071289 Batch_id=97 Accuracy=65.74: 100% 98/98 [00:40<00:00,  2.42it/s]\n",
            "\n",
            "Test set: Average loss: -39.6305, Accuracy: 6634/10000 (66.34%)\n",
            "\n",
            "EPOCH: 17\n",
            "Loss=-39.18950653076172 Batch_id=97 Accuracy=66.53: 100% 98/98 [00:40<00:00,  2.42it/s]\n",
            "\n",
            "Test set: Average loss: -42.1811, Accuracy: 6525/10000 (65.25%)\n",
            "\n",
            "EPOCH: 18\n",
            "Loss=-41.895042419433594 Batch_id=97 Accuracy=66.80: 100% 98/98 [00:40<00:00,  2.42it/s]\n",
            "\n",
            "Test set: Average loss: -42.7465, Accuracy: 6745/10000 (67.45%)\n",
            "\n",
            "EPOCH: 19\n",
            "Loss=-43.765907287597656 Batch_id=97 Accuracy=67.60: 100% 98/98 [00:40<00:00,  2.40it/s]\n",
            "\n",
            "Test set: Average loss: -44.4199, Accuracy: 6823/10000 (68.23%)\n",
            "\n"
          ]
        }
      ],
      "source": [
        "!python main.py --no_of_epochs 20 --batch_size 512"
      ]
    }
  ],
  "metadata": {
    "accelerator": "GPU",
    "colab": {
      "provenance": [],
      "gpuType": "T4"
    },
    "kernelspec": {
      "display_name": "Python 3",
      "name": "python3"
    },
    "language_info": {
      "name": "python"
    }
  },
  "nbformat": 4,
  "nbformat_minor": 0
}